{
 "cells": [
  {
   "cell_type": "markdown",
   "metadata": {},
   "source": [
    "$f = g (\\mu + f \\beta - \\theta)$\n",
    "\n",
    "To simplify: ignore the threshold (modelled through the biases) and the gain (g=1):\n",
    "\n",
    "$f = \\mu + f \\beta$\n",
    "\n",
    "$f(1-\\beta) = \\mu$\n",
    "\n",
    "$f = \\frac{1}{1-\\beta} \\mu$"
   ]
  },
  {
   "cell_type": "code",
   "execution_count": 16,
   "metadata": {},
   "outputs": [
    {
     "data": {
      "application/vnd.jupyter.widget-view+json": {
       "model_id": "4d49f8293815414a983ebe74e8bf1003"
      }
     },
     "metadata": {},
     "output_type": "display_data"
    },
    {
     "data": {
      "text/plain": [
       "<function __main__.plot_var_slope_relu>"
      ]
     },
     "execution_count": 16,
     "metadata": {},
     "output_type": "execute_result"
    }
   ],
   "source": [
    "import matplotlib\n",
    "import numpy as np\n",
    "import matplotlib.pyplot as plt\n",
    "from ipywidgets import interact, interactive, fixed, interact_manual\n",
    "import ipywidgets as widgets\n",
    "%matplotlib inline\n",
    "\n",
    "\n",
    "def comp_beta(x, sat_thresh): \n",
    "    return np.piecewise(x, [x < sat_thresh, x >= sat_thresh], [lambda x: 1/sat_thresh*x, lambda x: 0.99])\n",
    "\n",
    "def var_slope_relu(ff, fb, sat_thresh): \n",
    "    slope = 1/(1-comp_beta(fb, sat_thresh))\n",
    "    ff[ff < 0] = 0\n",
    "    return slope*ff\n",
    "\n",
    "def plot_var_slope_relu(fb, sat_thresh): \n",
    "    ff = np.linspace(-5,5)\n",
    "    out = var_slope_relu(ff, fb, sat_thresh)\n",
    "    x = np.linspace(-3, 5)\n",
    "    fig=plt.figure(figsize=(18, 6), dpi= 80, facecolor='w', edgecolor='k')\n",
    "\n",
    "    # plot relus\n",
    "    plt.subplot(121)\n",
    "    ref_relu, = plt.plot(x, [max(0,x) for x in x], label='reference relu') # reference relu\n",
    "    var_relu, = plt.plot(ff, out, label='variable slope relu')\n",
    "    plt.legend(handles=[ref_relu, var_relu])\n",
    "    plt.ylabel('AP rate')\n",
    "    plt.xlabel('Soma input')\n",
    "    plt.axis([-2, 5, -1, 6])\n",
    "    \n",
    "    # beta curve plot\n",
    "    plt.subplot(122)\n",
    "    plt.plot(np.linspace(0, 20), comp_beta(np.linspace(0, 20), sat_thresh))\n",
    "    plt.xlabel(\"Distal input\")\n",
    "    plt.ylabel(\"beta\")\n",
    "    plt.show()\n",
    "    \n",
    "    \n",
    "widgets.interact(plot_var_slope_relu, fb=(-5, 10, 0.1), sat_thresh=(0, 20))"
   ]
  },
  {
   "cell_type": "code",
   "execution_count": null,
   "metadata": {
    "collapsed": true
   },
   "outputs": [],
   "source": []
  }
 ],
 "metadata": {
  "kernelspec": {
   "display_name": "Python [conda env:tfenv]",
   "language": "python",
   "name": "conda-env-tfenv-py"
  },
  "language_info": {
   "codemirror_mode": {
    "name": "ipython",
    "version": 3
   },
   "file_extension": ".py",
   "mimetype": "text/x-python",
   "name": "python",
   "nbconvert_exporter": "python",
   "pygments_lexer": "ipython3",
   "version": "3.6.2"
  }
 },
 "nbformat": 4,
 "nbformat_minor": 2
}
